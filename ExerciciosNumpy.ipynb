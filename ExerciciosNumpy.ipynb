{
  "cells": [
    {
      "cell_type": "markdown",
      "metadata": {
        "colab_type": "text",
        "id": "view-in-github"
      },
      "source": [
        "<a href=\"https://colab.research.google.com/github/robertosgpontes/tec_prog_1/blob/main/ExerciciosNumpy.ipynb\" target=\"_parent\"><img src=\"https://colab.research.google.com/assets/colab-badge.svg\" alt=\"Open In Colab\"/></a>"
      ]
    },
    {
      "cell_type": "markdown",
      "metadata": {
        "id": "dDhJSUbSE6hI"
      },
      "source": [
        "# Lista de Exercícios de Numpy\n",
        "\n",
        "Deverá ser entrege até **11/02/2023** por meio do github que foi informado por vocês no [formulário](https://forms.office.com/r/YV12vEXGYF) respondido na aula de 01/02.\n",
        "\n",
        "A entrega pela github é parte da avaliação."
      ]
    },
    {
      "cell_type": "markdown",
      "metadata": {
        "id": "eX5x6-bjE6hN"
      },
      "source": [
        "## Questão 1\n",
        "\n",
        "Crie um array 100 com valores aleatórios e ache os valores máximo e mínimo"
      ]
    },
    {
      "cell_type": "code",
      "execution_count": 1,
      "metadata": {
        "id": "kYKS_ae1E6hP"
      },
      "outputs": [
        {
          "name": "stdout",
          "output_type": "stream",
          "text": [
            "[83 40 73 54 31 76 91 39 90 25 51  6 45 12 49 66 75 85 69 64 12 21 48 41\n",
            " 79 90 62 57 19 33 59 39 15 36 65  1 43 15 86 83 58 25 66 74 35 96 56 13\n",
            " 60 22 38 31 94 78  0 21  6 32 98 32 14 31 78 83 80 70 66 82 85 55 27 62\n",
            " 43 74 71 42 83 21  6 68 22 43  8 85 62 32 60 11  1 41 26 37 41 56 39 81\n",
            " 32 53 35 23]\n",
            "O valor máximo é:  98\n",
            "O valor mínimo é:  0\n"
          ]
        }
      ],
      "source": [
        "import numpy as np\n",
        "np.random.seed(23)\n",
        "array_1=np.random.randint(0,100,size=100)\n",
        "print(array_1)\n",
        "print('O valor máximo é: ',max(array_1))\n",
        "print('O valor mínimo é: ',min(array_1))"
      ]
    },
    {
      "cell_type": "markdown",
      "metadata": {
        "id": "qT9pSHp4E6hQ"
      },
      "source": [
        "## Questão 2\n",
        "Em Geometria Analítica, um **vetor** é uma quantidade que pode ser definida por um énuplo (uma sequência ordenada de *n* elementos) em que cada elemento representa a intensidade do vetor na direção especificada pela i-ésima componente desta sequência. \n",
        "\n",
        "Quando pensamos em duas dimensões, por exemplo, o vetor $R = (b,a)$ define, geometricamente, a entidade representada na figura abaixo, com componentes nos eixos x e y usuais.\n",
        "\n",
        "<img src = \"https://static.todamateria.com.br/upload/im/ag/image-721.jpg?auto_optimize=low\" />\n",
        "\n",
        "O **módulo** deste vetor, também chamado de intensidade, está geometricamente relacionado ao seu comprimento, e pode ser calculado diretamente pelas suas componentes, por meio de uma operação conhecida como **produto escalar** do vetor com ele mesmo. O módulo quadrático é expresso, desta forma, por:\n",
        "\n",
        "$|A|^2 = \\vec{A} \\cdot \\vec{A}$\n",
        "\n",
        "Por outro lado, o produto escalar entre dois vetores $A = (a_{x}, a_{y})$ e $B = (b_{x}, b_{y})$ é dado por:\n",
        "\n",
        "$\\vec{A} \\cdot \\vec{B} = a_{x} \\times b_{x} + a_{y} \\times b_{y}$ (e esta definição vale para qualquer que seja a dimensão do vetor).\n",
        "\n",
        "O módulo quadrático de um vetor é, portanto:\n",
        "\n",
        "$|A|² = a_{x}^2 + b_{x}^2$."
      ]
    },
    {
      "cell_type": "markdown",
      "metadata": {
        "id": "-ZU6W86sE6hT"
      },
      "source": [
        "Dado o exposto acima, escreva uma função que retorne o módulo de um vetor n-dimensional qualquer."
      ]
    },
    {
      "cell_type": "code",
      "execution_count": 8,
      "metadata": {
        "id": "PdKKKvShE6hT"
      },
      "outputs": [
        {
          "name": "stdout",
          "output_type": "stream",
          "text": [
            "O vetor é: [96 44 83 27 44 91 49 41  6]\n",
            "O módulo é: 181.94779471046084\n"
          ]
        }
      ],
      "source": [
        "\n",
        "import numpy as np\n",
        "\n",
        "# Definindo o tamanho do vetor\n",
        "tamanho_vetor = np.random.randint(15) \n",
        "\n",
        "# Criando o vetor\n",
        "vetor_aleatorio = np.random.randint(0, 100, tamanho_vetor)\n",
        "\n",
        "def calculo_modulo(x):\n",
        "  soma=0\n",
        "  for i in range(len(x)):\n",
        "    soma=soma+x[i]**2\n",
        "  modulo=np.sqrt(soma)\n",
        "  return modulo\n",
        "print('O vetor é:',vetor_aleatorio)\n",
        "print('O módulo é:',calculo_modulo(vetor_aleatorio))\n",
        "    "
      ]
    },
    {
      "cell_type": "markdown",
      "metadata": {
        "id": "CRZdfzLgE6hU"
      },
      "source": [
        "## Questão 3\n",
        "\n",
        "Em uma **análise de regressão**, usualmente estamos interessados em descrever relações entre variáveis de um dado conjunto de dados por meio de uma **função** que descreva, o tanto quanto possível, estas relações.\n",
        "\n",
        "Por exemplo, no gráfico abaixo, os pontos vermelhos relacionam as medidas das duas variáveis sendo avaliadas (nos eixos x e y); e a linha azul aproxima a relação entre elas por uma função linear."
      ]
    },
    {
      "cell_type": "markdown",
      "metadata": {
        "id": "180Vp7AZE6hV"
      },
      "source": [
        "![Normdist_regression.png](https://miro.medium.com/v2/resize:fit:786/format:webp/1*LEmBCYAttxS6uI6rEyPLMQ.png)"
      ]
    },
    {
      "cell_type": "markdown",
      "metadata": {
        "id": "oQ1RFXOAE6hV"
      },
      "source": [
        "É possível ver que nem todos os pontos obedecem exatamente à relação ditada pela reta (isto é, há pontos que não estão exatamente \"sobre a reta\"; mas, sim, ligeraimente acima, ou abaixo, dela). Isto, contudo, é esperado em um modelo de regressão, por inúmeras fontes de incerteza associadas às medições."
      ]
    },
    {
      "cell_type": "markdown",
      "metadata": {
        "id": "XGWoc_O2E6hW"
      },
      "source": [
        "Uma das métricas que utilizamos para avaliar a qualidade de uma regressão é o **erro quadrático médio (EQM)**, que mensura a diferença total entre cada predição da regressão ($y_{prediction}$; que no nosso caso seriam os valores de y para a reta azul) com o valor real de cada i-ésima medida ($y_{i}$; que no nosso caso seriam as coordenadas y para cada ponto vermelho do gráfico). O EQM pode ser definido como:"
      ]
    },
    {
      "cell_type": "markdown",
      "metadata": {
        "id": "CjgOdTD6E6hX"
      },
      "source": [
        "$EQM = \\frac{1}{n}\\sum_{i=1}^{n}(y_{prediction} - y_{i})^2$."
      ]
    },
    {
      "cell_type": "markdown",
      "metadata": {
        "id": "qeXCrbmbE6hY"
      },
      "source": [
        "Isto posto, escreva uma função que calcule o EQM recebendo, como entrada, os vetores $y_{prediction}$ e $y_{i}$. Por exemplo, digamos que sua função se chame *calculate_eqm*, ela deve operar da seguinte forma:"
      ]
    },
    {
      "cell_type": "code",
      "execution_count": 64,
      "metadata": {
        "id": "bwiTGuuoE6hb"
      },
      "outputs": [
        {
          "name": "stdout",
          "output_type": "stream",
          "text": [
            "O EQM é: 6.833333333333333\n",
            "Real:\n",
            " [6 4 5 8 4 0]\n",
            "Predição:\n",
            " [7 0 1 6 6 0]\n"
          ]
        }
      ],
      "source": [
        "import numpy as np\n",
        "n_1=np.random.randint(10)\n",
        "y_pred=np.random.randint(0,10,n_1)\n",
        "y_real=np.random.randint(0,10,n_1)\n",
        "def EQM_calculate(y_pred,y_real):\n",
        "    soma=0\n",
        "    n_tamanho=len(y_pred)\n",
        "    for i in range(0,n_tamanho):    \n",
        "        dif=(y_pred[i]-y_real[i])**2\n",
        "        soma=soma+dif\n",
        "    EQM=(1/n_tamanho)*soma\n",
        "    return print('O EQM é:',EQM)\n",
        "EQM_calculate(y_pred,y_real)\n",
        "print('Real:\\n',y_real)\n",
        "print('Predição:\\n',y_pred)\n"
      ]
    },
    {
      "cell_type": "markdown",
      "metadata": {
        "id": "Wh0_a8PjE6hc"
      },
      "source": [
        "## Questão 4\n",
        "\n",
        "Crie um array 2D (bidimensional) com 1 na borda e 0 dentro"
      ]
    },
    {
      "cell_type": "code",
      "execution_count": 44,
      "metadata": {},
      "outputs": [
        {
          "data": {
            "text/plain": [
              "array([[1., 1., 1., 1., 1.],\n",
              "       [1., 0., 0., 0., 1.],\n",
              "       [1., 0., 0., 0., 1.],\n",
              "       [1., 0., 0., 0., 1.],\n",
              "       [1., 1., 1., 1., 1.]])"
            ]
          },
          "execution_count": 44,
          "metadata": {},
          "output_type": "execute_result"
        }
      ],
      "source": [
        "import numpy as np\n",
        "#criando uma matriz de zeros 5x5\n",
        "array_0=np.zeros((5,5))\n",
        "#substituindo os valores:\n",
        "for i in range(0,5):\n",
        "    array_0[0,i]=1\n",
        "for j in range(0,5):\n",
        "    array_0[j,0]=1\n",
        "for k in range(0,5):\n",
        "    array_0[4,k]=1\n",
        "for l in range(0,5):\n",
        "    array_0[l,4]=1\n",
        "array_0"
      ]
    },
    {
      "cell_type": "markdown",
      "metadata": {
        "id": "U1CntgkZE6hc"
      },
      "source": [
        "## Questão 5\n",
        "\n",
        "Como adicionar uma borda de 0's ao redor de um array 2D (bidimensional) existente"
      ]
    },
    {
      "cell_type": "code",
      "execution_count": 139,
      "metadata": {},
      "outputs": [
        {
          "name": "stdout",
          "output_type": "stream",
          "text": [
            "Array original:\n",
            " [[0 1 1 6 6 2 7 0]\n",
            " [1 3 4 8 4 7 1 3]\n",
            " [9 1 4 9 6 2 0 4]\n",
            " [4 0 7 8 8 5 5 2]\n",
            " [8 9 7 2 4 5 5 4]\n",
            " [3 8 1 2 2 0 5 0]\n",
            " [0 1 0 1 7 5 1 9]\n",
            " [5 5 3 7 9 3 7 0]]\n",
            "Array com bordas:\n",
            " [[0 0 0 0 0 0 0 0 0 0]\n",
            " [0 0 1 1 6 6 2 7 0 0]\n",
            " [0 1 3 4 8 4 7 1 3 0]\n",
            " [0 9 1 4 9 6 2 0 4 0]\n",
            " [0 4 0 7 8 8 5 5 2 0]\n",
            " [0 8 9 7 2 4 5 5 4 0]\n",
            " [0 3 8 1 2 2 0 5 0 0]\n",
            " [0 0 1 0 1 7 5 1 9 0]\n",
            " [0 5 5 3 7 9 3 7 0 0]\n",
            " [0 0 0 0 0 0 0 0 0 0]]\n"
          ]
        }
      ],
      "source": [
        "import numpy as np\n",
        "n=np.random.randint(10)\n",
        "array_bidimensional=np.random.randint(0,10,(n,n))\n",
        "array_bordas=np.zeros((n+2,n+2),dtype=np.int32)\n",
        "for i in range (0,n):\n",
        "    for j in range(0,n):\n",
        "        array_bordas[i+1,j+1]=array_bidimensional[i,j]\n",
        "\n",
        "print('Array original:\\n',array_bidimensional)\n",
        "print('Array com bordas:\\n',array_bordas,)"
      ]
    },
    {
      "cell_type": "markdown",
      "metadata": {
        "id": "qHh149eAE6hd"
      },
      "source": [
        "## Questão 6\n",
        "\n",
        " A eletroencefalografia (EEG) é uma técnica que mensura potenciais elétricos cerebrais em diversas regiões do escalpo do paciente. Suponha que você recebeu um conjunto de dados na forma de uma matriz de 64 x 512 elementos, em que cada linha contém o sinal gravado em um dos **eletrodos** espalhados pelo escalpo em um exame de EEG, e cada coluna contém um valor de potencial elétrico, em microvolts. "
      ]
    },
    {
      "cell_type": "markdown",
      "metadata": {
        "id": "BRDY8u09E6hd"
      },
      "source": [
        "Como o sinal de EEG é muito suscetível a ruídos externos (interferências na qualidade do sinal), uma operação comum para atenuar a interferência no sinal consiste em tirar a média do potencial elétrico de todos os eletrodos, e subtrair este valor de cada um deles. Isto atenua fontes de ruído ao sinal comuns a todos os eletrodos. Em termos matemáticos, o sinal processado por esta operação, $X_{e,i}$ para cada eletrodo (e) e amostra (i), é dado por:"
      ]
    },
    {
      "cell_type": "markdown",
      "metadata": {
        "id": "NHLeT5deE6he"
      },
      "source": [
        "$X_{e,i} = \\hat{X_{e,i}} - \\frac{1}{N}\\sum_{e=1}^{N}\\hat{X_{e,i}}$,\n",
        "\n",
        "em que $\\hat{X_{e,i}}$ representa o sinal original (ou seja, é a matriz de entrada de 64 x 512 elementos), e $N$ indica o total de eletrodos."
      ]
    },
    {
      "cell_type": "markdown",
      "metadata": {
        "id": "ToiE-omdE6he"
      },
      "source": [
        "Com o exposto acima, escreva uma função que retorne uma matriz com os sinais de EEG processados conforme a operação mencionada. Sua função deve operar conforme o exemplo abaixo."
      ]
    },
    {
      "cell_type": "code",
      "execution_count": 66,
      "metadata": {
        "id": "EgsEH6T-E6hf",
        "outputId": "7388c8ad-a5f8-4097-b1db-e2e1e4aad9b0"
      },
      "outputs": [
        {
          "data": {
            "text/plain": [
              "(64, 512)"
            ]
          },
          "execution_count": 66,
          "metadata": {},
          "output_type": "execute_result"
        }
      ],
      "source": [
        "# vamos supor uma matriz de entrada gerada por dados aleatórios\n",
        "X = np.random.randn(64,512)\n",
        "X.shape # apenas para verificar as dimensões"
      ]
    },
    {
      "cell_type": "code",
      "execution_count": null,
      "metadata": {
        "id": "gXsgtYEJE6hg",
        "outputId": "7d179469-09c8-4d0d-d8b7-a9cde1f813fb"
      },
      "outputs": [
        {
          "data": {
            "text/plain": [
              "(64, 512)"
            ]
          },
          "metadata": {},
          "output_type": "display_data"
        }
      ],
      "source": [
        "# a função deve executar a operação equacionada anteriormente, retornando uma nova matriz\n",
        "X_processado = process_EEG_signal(X)\n",
        "X_processado.shape"
      ]
    },
    {
      "cell_type": "code",
      "execution_count": null,
      "metadata": {
        "id": "mR_U9LEbE6hh",
        "outputId": "ef4a479a-23fa-4e1e-9e50-97afaa3596ca"
      },
      "outputs": [
        {
          "data": {
            "text/plain": [
              "-53.08727366483029"
            ]
          },
          "metadata": {},
          "output_type": "display_data"
        }
      ],
      "source": [
        "# Somando as diferenças entre cada elemento das duas matrizes, apenas para ilustrar que elas não são iguais\n",
        "(X_processado - X).sum()"
      ]
    },
    {
      "cell_type": "code",
      "execution_count": null,
      "metadata": {
        "id": "HkoRtLugE6hh",
        "outputId": "ee8fe812-1c8c-43e5-d04a-40b0e370b85a"
      },
      "outputs": [
        {
          "data": {
            "text/plain": [
              "array([[ 0.29305925,  0.89663038, -0.61032202, ..., -0.88086364,\n",
              "        -0.8818789 ,  0.51260497],\n",
              "       [-0.01274415,  1.05439522,  0.47958092, ..., -2.15387924,\n",
              "         0.70721168,  0.97029889],\n",
              "       [ 1.09478371, -0.16120847,  1.58400361, ...,  0.20981813,\n",
              "         2.17373837,  0.94032162],\n",
              "       ...,\n",
              "       [-0.45294842, -2.28939505,  1.10111998, ...,  1.63581703,\n",
              "        -0.39394924, -1.13400723],\n",
              "       [-0.22669886,  0.25413429, -1.17870637, ..., -0.09509442,\n",
              "         0.90733806,  0.37999411],\n",
              "       [ 0.15476933, -0.03654717, -1.09982762, ...,  0.67600047,\n",
              "        -0.84533328, -0.56433144]])"
            ]
          },
          "metadata": {},
          "output_type": "display_data"
        }
      ],
      "source": [
        "# Visualizando as matrizes, para verificar uma vez mais que, de fato, os elementos são diferentes\n",
        "X"
      ]
    },
    {
      "cell_type": "code",
      "execution_count": null,
      "metadata": {
        "id": "kGdBX0J-E6hi",
        "outputId": "59655945-932b-4a3b-b4d1-bcc87f9ecdca"
      },
      "outputs": [
        {
          "data": {
            "text/plain": [
              "array([[ 0.36713022,  0.85772513, -0.54902169, ..., -0.85626087,\n",
              "        -0.97611435,  0.51718998],\n",
              "       [ 0.06132682,  1.01548997,  0.54088126, ..., -2.12927647,\n",
              "         0.61297623,  0.97488389],\n",
              "       [ 1.16885469, -0.20011372,  1.64530394, ...,  0.23442091,\n",
              "         2.07950292,  0.94490663],\n",
              "       ...,\n",
              "       [-0.37887744, -2.3283003 ,  1.16242031, ...,  1.6604198 ,\n",
              "        -0.4881847 , -1.12942223],\n",
              "       [-0.15262788,  0.21522904, -1.11740604, ..., -0.07049164,\n",
              "         0.81310261,  0.38457911],\n",
              "       [ 0.22884031, -0.07545242, -1.03852729, ...,  0.70060324,\n",
              "        -0.93956874, -0.55974643]])"
            ]
          },
          "metadata": {},
          "output_type": "display_data"
        }
      ],
      "source": [
        "# Matriz após o processamento descrito no enunciado\n",
        "X_processado"
      ]
    },
    {
      "cell_type": "code",
      "execution_count": 73,
      "metadata": {
        "id": "OlxjvCnQE6hj"
      },
      "outputs": [
        {
          "name": "stdout",
          "output_type": "stream",
          "text": [
            "A matriz é:\n",
            " [[ 0.39750721  0.66563458  1.27525101 ...  0.34447363  0.16978808\n",
            "   0.44923627]\n",
            " [-0.89096427 -0.42060423  0.87255931 ... -0.45956737  1.1840446\n",
            "  -0.97774097]\n",
            " [-0.99368489 -1.17616223 -0.54150518 ...  0.40021544  2.00463622\n",
            "   0.3268071 ]\n",
            " ...\n",
            " [-0.54603609 -1.91451914 -0.31597106 ... -1.32785349 -0.73288359\n",
            "   0.4800148 ]\n",
            " [-1.1047308   1.14445422 -1.52661976 ... -0.76457661 -0.98691355\n",
            "   0.17837241]\n",
            " [ 0.85543841  0.31775047 -0.31038382 ... -0.53007017 -0.07929101\n",
            "  -1.5446027 ]]\n",
            "A matriz processada é:\n",
            " [[ 0.38959225  0.65771962  1.26733605 ...  0.33655867  0.16187312\n",
            "   0.4413213 ]\n",
            " [-0.89887923 -0.42851919  0.86464435 ... -0.46748234  1.17612964\n",
            "  -0.98565594]\n",
            " [-1.00159985 -1.18407719 -0.54942015 ...  0.39230047  1.99672126\n",
            "   0.31889213]\n",
            " ...\n",
            " [-0.55395105 -1.9224341  -0.32388603 ... -1.33576845 -0.74079856\n",
            "   0.47209983]\n",
            " [-1.11264577  1.13653926 -1.53453473 ... -0.77249158 -0.99482852\n",
            "   0.17045744]\n",
            " [ 0.84752345  0.30983551 -0.31829878 ... -0.53798513 -0.08720598\n",
            "  -1.55251766]]\n"
          ]
        }
      ],
      "source": [
        "import numpy as np\n",
        "eletrodos_matriz=np.random.randn(64,512)\n",
        "def processado_eletrodo(x):\n",
        "    med=x.mean()\n",
        "    eletrodos_processados= x - med\n",
        "    return eletrodos_processados\n",
        "print('A matriz é:\\n',eletrodos_matriz)\n",
        "print('A matriz processada é:\\n', processado_eletrodo(eletrodos_matriz))\n",
        "     "
      ]
    },
    {
      "cell_type": "markdown",
      "metadata": {
        "id": "7Gy6nTwQE6hj"
      },
      "source": [
        "## Questão 7\n",
        "\n",
        "Em estatística, um **outlier** é um valor que destoa consideravelmente da distribuição à qual está associado. Um dos critérios para idenficar outliers consiste em encontrar a **distância interquantil** (IQR), ou seja, a diferença entre o terceiro (Q3) e o primeiro quartis (Q1) da distribuição, e tomar como outliers todos os pontos abaixo de 1.5*IQR - Q1, ou acima de 1.5*IQR + Q3."
      ]
    },
    {
      "cell_type": "markdown",
      "metadata": {
        "id": "CP-NkMHTE6hk"
      },
      "source": [
        "<img src = \"https://blog.curso-r.com/images/posts/banner/outlier.webp\" />"
      ]
    },
    {
      "cell_type": "markdown",
      "metadata": {
        "id": "BLDJN5JPE6hk"
      },
      "source": [
        "Escreva uma função que, dada uma matriz de dados de entrada de dimensões $N_{observações} \\times N_{features}$ retorne três requisitos: \n",
        "- uma matriz booleana indicando a existência de outliers nos dados de entrada;\n",
        "- a quantidade de outliers\n",
        "- quem são os outliers (os valores)."
      ]
    },
    {
      "cell_type": "markdown",
      "metadata": {
        "id": "wwVcP2uZE6hl"
      },
      "source": [
        "**Algumas definições:**\n",
        "- um *quantil* divide a distribuição, após ordenados os pontos, segundo algum ponto de corte;\n",
        "- o **primeiro quartil** é o ponto para o qual 25 % dos valores da distribuição estão abaixo dele;\n",
        "- o **terceiro quartil** é o ponto para o qual 75 % dos valores da distribuição estão abaixo dele.\n",
        "\n",
        "Pode ser útil consultar a função **numpy.quantile**."
      ]
    },
    {
      "cell_type": "markdown",
      "metadata": {
        "id": "C9nCKXhjE6hm"
      },
      "source": [
        "Exemplo de operação da função:"
      ]
    },
    {
      "cell_type": "code",
      "execution_count": null,
      "metadata": {
        "id": "wHdcs77RE6hm",
        "outputId": "28783112-67ef-4d51-9f83-ea939812a3d7"
      },
      "outputs": [
        {
          "data": {
            "text/plain": [
              "array([[-2.02108952,  0.57945921, -2.23074965, ..., -0.60349514,\n",
              "         0.92180452, -0.15625722],\n",
              "       [ 0.24904397,  0.03493447,  0.3515052 , ..., -0.46950081,\n",
              "         0.20361331,  0.02715956],\n",
              "       [ 0.55902525, -0.48435434,  0.90413414, ..., -0.54425743,\n",
              "        -0.80769134, -0.07912549],\n",
              "       ...,\n",
              "       [-1.04069388, -0.24245725, -2.00308877, ...,  0.4084777 ,\n",
              "        -1.81516131,  0.39063118],\n",
              "       [-1.39275097,  0.3989636 ,  0.2926223 , ...,  1.2620666 ,\n",
              "         0.72262949,  1.50737559],\n",
              "       [ 0.15922011, -0.79810788, -1.60939896, ..., -0.08214499,\n",
              "        -0.13167475,  0.15990558]])"
            ]
          },
          "metadata": {},
          "output_type": "display_data"
        }
      ],
      "source": [
        "# Geremos um conjunto de dados qualquer\n",
        "X = np.random.randn(300,15)\n",
        "X"
      ]
    },
    {
      "cell_type": "code",
      "execution_count": null,
      "metadata": {
        "id": "KVe7LEW0E6hn"
      },
      "outputs": [],
      "source": [
        "# identificamos os requisitos com nossa com nossa função \"locate_outliers\"\n",
        "is_outlier, outliers_count, outliers = locate_outliers(X)"
      ]
    },
    {
      "cell_type": "code",
      "execution_count": null,
      "metadata": {
        "id": "vuZ3n3K_E6hn",
        "outputId": "7e2860f1-4bf7-4a8a-a066-dff638e7a5f9"
      },
      "outputs": [
        {
          "data": {
            "text/plain": [
              "array([[False, False, False, ..., False, False, False],\n",
              "       [False, False, False, ..., False, False, False],\n",
              "       [False, False, False, ..., False, False, False],\n",
              "       ...,\n",
              "       [False, False, False, ..., False, False, False],\n",
              "       [False, False, False, ..., False, False, False],\n",
              "       [False, False, False, ..., False, False, False]])"
            ]
          },
          "metadata": {},
          "output_type": "display_data"
        }
      ],
      "source": [
        "is_outlier"
      ]
    },
    {
      "cell_type": "code",
      "execution_count": null,
      "metadata": {
        "id": "IzjWsBrZE6ho",
        "outputId": "8bf5b80b-16e4-4c65-eead-2a46b67a3954"
      },
      "outputs": [
        {
          "data": {
            "text/plain": [
              "44"
            ]
          },
          "metadata": {},
          "output_type": "display_data"
        }
      ],
      "source": [
        "outliers_count"
      ]
    },
    {
      "cell_type": "code",
      "execution_count": null,
      "metadata": {
        "id": "PbO7R7P2E6hp",
        "outputId": "161089f3-1f11-46a0-ba52-3a328ad17710"
      },
      "outputs": [
        {
          "data": {
            "text/plain": [
              "array([-2.67240384,  3.00270904,  3.62317101,  3.18867865,  2.55581522,\n",
              "       -2.82091429,  2.8757892 ,  2.70666036,  3.19514999, -3.40550318,\n",
              "       -3.39825827,  2.6727295 ,  2.54498296, -2.69447104,  3.19521603,\n",
              "        2.66372172, -2.77444948,  2.77421152,  2.69992869, -2.84831109,\n",
              "       -2.83695779, -2.45908227,  3.07802106,  2.89314015, -2.68574682,\n",
              "       -2.85019494,  2.43399574,  2.44291266, -2.92595937, -2.95911074,\n",
              "       -3.03966003,  2.77543068, -2.67368414, -2.79965402, -3.0501958 ,\n",
              "       -2.5437387 ,  3.08550649, -3.17666255, -3.05795476, -3.09826467,\n",
              "        3.1399469 ,  3.18141942,  2.90564257, -2.89505054])"
            ]
          },
          "metadata": {},
          "output_type": "display_data"
        }
      ],
      "source": [
        "outliers"
      ]
    },
    {
      "cell_type": "code",
      "execution_count": null,
      "metadata": {
        "id": "AdTkst5UE6hq"
      },
      "outputs": [],
      "source": [
        "# Solução"
      ]
    },
    {
      "cell_type": "markdown",
      "metadata": {
        "id": "upNDn96PE6hq"
      },
      "source": [
        "## Questão 8\n",
        "\n",
        "Crie um vetor com valores que vão de 1 até 21 de dois em dois, a partir da função arange"
      ]
    },
    {
      "cell_type": "code",
      "execution_count": 11,
      "metadata": {
        "id": "w4d14JRZE6hr"
      },
      "outputs": [
        {
          "data": {
            "text/plain": [
              "array([ 1,  3,  5,  7,  9, 11, 13, 15, 17, 19, 21])"
            ]
          },
          "execution_count": 11,
          "metadata": {},
          "output_type": "execute_result"
        }
      ],
      "source": [
        "import numpy as np\n",
        "vetor=np.arange(1,22,2)\n",
        "vetor\n"
      ]
    },
    {
      "cell_type": "markdown",
      "metadata": {
        "id": "SchEY1O7E6hr"
      },
      "source": [
        "## Questão 9\n",
        "\n",
        "Crie um array de 10 com valores aleatórios"
      ]
    },
    {
      "cell_type": "code",
      "execution_count": 5,
      "metadata": {
        "id": "MYpySePjE6hs"
      },
      "outputs": [
        {
          "data": {
            "text/plain": [
              "array([ 40,  33,  19,  28,  56,  55,  99, -15,  18,  75])"
            ]
          },
          "execution_count": 5,
          "metadata": {},
          "output_type": "execute_result"
        }
      ],
      "source": [
        "import numpy as np\n",
        "np.random.seed(15)\n",
        "aleatoria=np.random.randint(-100,100,size=10)\n",
        "aleatoria"
      ]
    },
    {
      "cell_type": "markdown",
      "metadata": {
        "id": "EFfvM6LIAlfJ"
      },
      "source": [
        "## Questão 10\n",
        "\n",
        "Em estatística, a normalização de uma distribuição de dados pode ser feita subtraindo o valor médio da distribuição de cada valor do conjunto de dados, dividindo o resultado pelo desvio-padrão da distribuição. Escreva uma função que normalize os dados recebidos por um array numpy qualquer, conforme descrito anteriormente."
      ]
    },
    {
      "cell_type": "code",
      "execution_count": 9,
      "metadata": {
        "id": "yfho2bziAlfJ"
      },
      "outputs": [
        {
          "name": "stdout",
          "output_type": "stream",
          "text": [
            "A array é: [9 6 6 8 1 8 6 7 2 8] E a normalizada é: [ 1.15630572 -0.03987261 -0.03987261  0.75757961 -2.03350317  0.75757961\n",
            " -0.03987261  0.3588535  -1.63477706  0.75757961]\n"
          ]
        }
      ],
      "source": [
        "import numpy as np\n",
        "def normalizado():\n",
        "    np.random.seed(15)\n",
        "    array_qualquer=np.random.randint(1,11,size=10)\n",
        "    media=array_qualquer.mean()\n",
        "    desvio=array_qualquer.std()\n",
        "    array_normalizada= (array_qualquer-media)/desvio\n",
        "    return print('A array é:',array_qualquer,'E a normalizada é:',array_normalizada)\n",
        "normalizado()"
      ]
    },
    {
      "cell_type": "markdown",
      "metadata": {
        "id": "p60_N7ZwAlfK"
      },
      "source": [
        "## Questão 11\n",
        "\n",
        "Escreva uma função em numpy que receba um array contendo notas de uma turma de 100 estudantes. Considere que a nota de aprovação da turma é 5.0. A função deve retornar, em um array numpy, nesta ordem:\n",
        "- a média e o desvio-padrão das notas da turma;\n",
        "- o número de notas maiores que 7.0;\n",
        "- o número de reprovações da turma;\n",
        "- a menor nota da turma;\n",
        "- a maior nota da turma."
      ]
    },
    {
      "cell_type": "code",
      "execution_count": 16,
      "metadata": {
        "id": "Q3wkBCFtAlfK"
      },
      "outputs": [
        {
          "name": "stdout",
          "output_type": "stream",
          "text": [
            "A média é: 4.55 E o desvio padrão é: 3.1476181471074285\n",
            "O número de notas maiores que 7 é 22\n",
            "O número de reprovações é de: 50\n",
            "A menor nota da turma foi: 0\n",
            "A maior nota da turma foi: 10\n"
          ]
        }
      ],
      "source": [
        "import numpy as np\n",
        "np.random.seed(5)\n",
        "def notas_turma():\n",
        "    notas=np.random.randint(0,11,size=100)\n",
        "    print('A média é:',notas.mean(),'E o desvio padrão é:',notas.std())\n",
        "    print('O número de notas maiores que 7 é',len(notas[(notas>7)]))\n",
        "    print('O número de reprovações é de:',len(notas[(notas<5)]))\n",
        "    print('A menor nota da turma foi:',notas.min())\n",
        "    print('A maior nota da turma foi:',notas.max())\n",
        "notas_turma()"
      ]
    }
  ],
  "metadata": {
    "colab": {
      "include_colab_link": true,
      "provenance": []
    },
    "kernelspec": {
      "display_name": "Python 3",
      "language": "python",
      "name": "python3"
    },
    "language_info": {
      "codemirror_mode": {
        "name": "ipython",
        "version": 3
      },
      "file_extension": ".py",
      "mimetype": "text/x-python",
      "name": "python",
      "nbconvert_exporter": "python",
      "pygments_lexer": "ipython3",
      "version": "3.10.10"
    },
    "orig_nbformat": 4,
    "vscode": {
      "interpreter": {
        "hash": "67ed81ff52876af7bd8a0aa7e6122df8fe03d1a0c95153b294d8edcf484dd9b3"
      }
    }
  },
  "nbformat": 4,
  "nbformat_minor": 0
}
